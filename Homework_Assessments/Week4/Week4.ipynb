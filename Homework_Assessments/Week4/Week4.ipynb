{
  "nbformat": 4,
  "nbformat_minor": 0,
  "metadata": {
    "colab": {
      "provenance": []
    },
    "kernelspec": {
      "name": "python3",
      "display_name": "Python 3"
    },
    "language_info": {
      "name": "python"
    }
  },
  "cells": [
    {
      "cell_type": "code",
      "source": [
        "import cv2\n",
        "import numpy as np\n",
        "from google.colab.patches import cv2_imshow\n",
        "\n",
        "def convert_img_to_set(img):\n",
        "    if img is None:\n",
        "        return set()\n",
        "    foreground_coords = np.where(img == 255)\n",
        "    return set(zip(foreground_coords[1], foreground_coords[0]))"
      ],
      "metadata": {
        "id": "0OeVpUufz2xV"
      },
      "execution_count": 1,
      "outputs": []
    },
    {
      "cell_type": "code",
      "execution_count": 2,
      "metadata": {
        "id": "rUojO_kqNf_S"
      },
      "outputs": [],
      "source": [
        "def convert_set_to_img(pixel_set, shape):\n",
        "    img = np.zeros(shape, dtype=np.uint8)\n",
        "    for x, y in pixel_set:\n",
        "        if 0 <= y < shape[0] and 0 <= x < shape[1]:\n",
        "            img[y, x] = 255\n",
        "    return img\n",
        "\n"
      ]
    },
    {
      "cell_type": "code",
      "source": [
        "def get_se_offsets(se_shape, origin):\n",
        "    se_h, se_w = se_shape\n",
        "    origin_x, origin_y = origin\n",
        "    offsets = set()\n",
        "    for y in range(se_h):\n",
        "        for x in range(se_w):\n",
        "            offsets.add((x - origin_x, y - origin_y))\n",
        "    return offsets\n"
      ],
      "metadata": {
        "id": "uAQVGUT8z9o1"
      },
      "execution_count": 3,
      "outputs": []
    },
    {
      "cell_type": "code",
      "source": [
        "def dilation(image_set, se_offsets, image_shape):#the inputs specified are derived from the binary image and structuring element only.\n",
        "    dilated_set = set()\n",
        "    img_h, img_w = image_shape\n",
        "    for img_x, img_y in image_set:\n",
        "        for se_dx, se_dy in se_offsets:\n",
        "            new_x, new_y = img_x + se_dx, img_y + se_dy\n",
        "            if 0 <= new_x < img_w and 0 <= new_y < img_h:\n",
        "                dilated_set.add((new_x, new_y))\n",
        "    return dilated_set\n",
        "\n",
        "def erosion(image_set, se_offsets, image_shape):\n",
        "    eroded_set = set()\n",
        "    img_h, img_w = image_shape\n",
        "    for y in range(img_h):\n",
        "        for x in range(img_w):\n",
        "            is_a_match = 1\n",
        "            for se_dx, se_dy in se_offsets:\n",
        "                check_x, check_y = x + se_dx, y + se_dy\n",
        "                if (check_x, check_y) not in image_set:\n",
        "                    is_a_match = 0\n",
        "                    break\n",
        "            if is_a_match:\n",
        "                eroded_set.add((x, y))\n",
        "    return eroded_set"
      ],
      "metadata": {
        "id": "ebIOuJF40DKM"
      },
      "execution_count": 4,
      "outputs": []
    },
    {
      "cell_type": "code",
      "source": [
        "image_size = (200, 200)\n",
        "sample_image = np.zeros(image_size, dtype=np.uint8)\n",
        "cv2.rectangle(sample_image, (50, 50), (150, 150), 255, -1)\n",
        "cv2.circle(sample_image, (80, 80), 15, 0, -1)\n",
        "\n",
        "se_size = (7, 7)\n",
        "se_origin = (3, 3)\n",
        "\n",
        "img_shape = sample_image.shape\n",
        "image_pixel_set = convert_img_to_set(sample_image)\n",
        "se_offset_set = get_se_offsets(se_size, se_origin)\n",
        "\n",
        "\n",
        "dilated_pixel_set = dilation(image_pixel_set, se_offset_set, img_shape)\n",
        "custom_dilated_img = convert_set_to_img(dilated_pixel_set, img_shape)\n",
        "\n",
        "eroded_pixel_set = erosion(image_pixel_set, se_offset_set, img_shape)\n",
        "custom_eroded_img = convert_set_to_img(eroded_pixel_set, img_shape)\n",
        "#Below is the open cv function to do dilation and erosion on  images.\n",
        "kernel = cv2.getStructuringElement(cv2.MORPH_RECT, se_size)\n",
        "opencv_dilated_img = cv2.dilate(sample_image, kernel, anchor=se_origin)\n",
        "opencv_eroded_img = cv2.erode(sample_image, kernel, anchor=se_origin)\n",
        "\n",
        "print(\"\\nOriginal Image\")\n",
        "cv2_imshow(sample_image)\n",
        "\n",
        "print(\"\\nMy Dilation function\")\n",
        "cv2_imshow(custom_dilated_img)\n",
        "\n",
        "print('\\nOpenCV Dilation function')\n",
        "cv2_imshow(opencv_dilated_img)\n",
        "\n",
        "print('\\nMy Erosion function')\n",
        "cv2_imshow(custom_eroded_img)\n",
        "\n",
        "print('\\nOpenCV Erosion function')\n",
        "cv2_imshow(opencv_eroded_img)"
      ],
      "metadata": {
        "colab": {
          "base_uri": "https://localhost:8080/",
          "height": 1000
        },
        "id": "dJXaFB4y0I1y",
        "outputId": "10534be9-d655-4d1a-c2e4-d6942c8303be"
      },
      "execution_count": 8,
      "outputs": [
        {
          "output_type": "stream",
          "name": "stdout",
          "text": [
            "\n",
            "Original Image\n"
          ]
        },
        {
          "output_type": "display_data",
          "data": {
            "text/plain": [
              "<PIL.Image.Image image mode=L size=200x200>"
            ],
            "image/png": "[encoded data removed]",
            "image/jpeg": "[encoded data removed]"
          },
          "metadata": {}
        },
        {
          "output_type": "stream",
          "name": "stdout",
          "text": [
            "\n",
            "My Dilation function\n"
          ]
        },
        {
          "output_type": "display_data",
          "data": {
            "text/plain": [
              "<PIL.Image.Image image mode=L size=200x200>"
            ],
            "image/png": "[encoded data removed]",
            "image/jpeg": "[encoded data removed]"
          },
          "metadata": {}
        },
        {
          "output_type": "stream",
          "name": "stdout",
          "text": [
            "\n",
            "OpenCV Dilation function\n"
          ]
        },
        {
          "output_type": "display_data",
          "data": {
            "text/plain": [
              "<PIL.Image.Image image mode=L size=200x200>"
            ],
            "image/png": "[encoded data removed]",
            "image/jpeg": "[encoded data removed]"
          },
          "metadata": {}
        },
        {
          "output_type": "stream",
          "name": "stdout",
          "text": [
            "\n",
            "My Erosion function\n"
          ]
        },
        {
          "output_type": "display_data",
          "data": {
            "text/plain": [
              "<PIL.Image.Image image mode=L size=200x200>"
            ],
            "image/png": "[encoded data removed]",
            "image/jpeg": "[encoded data removed]"
          },
          "metadata": {}
        },
        {
          "output_type": "stream",
          "name": "stdout",
          "text": [
            "\n",
            "OpenCV Erosion function\n"
          ]
        },
        {
          "output_type": "display_data",
          "data": {
            "text/plain": [
              "<PIL.Image.Image image mode=L size=200x200>"
            ],
            "image/png": "[encoded data removed]",
            "image/jpeg": "[encoded data removed]"
          },
          "metadata": {}
        }
      ]
    }
  ]
}